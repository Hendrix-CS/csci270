{
 "cells": [
  {
   "cell_type": "markdown",
   "metadata": {},
   "source": [
    "# CSCI 270 - Computational Humanities - Spring 2020 \n",
    "# Lab 4 - Document Clustering"
   ]
  },
  {
   "cell_type": "code",
   "execution_count": 1,
   "metadata": {
    "collapsed": true
   },
   "outputs": [],
   "source": [
    "from scipy.cluster import hierarchy\n",
    "import numpy as np\n",
    "import matplotlib.pyplot as plt\n",
    "import random\n",
    "import math\n",
    "import os\n",
    "import re"
   ]
  },
  {
   "cell_type": "markdown",
   "metadata": {},
   "source": [
    "# Setup - Load data from files\n",
    "\n",
    "Here we load the data into a list of strings. These strings have only lowercase words and whitespace. Also, we keep a separate list of the titles of each document."
   ]
  },
  {
   "cell_type": "code",
   "execution_count": 2,
   "metadata": {
    "collapsed": true
   },
   "outputs": [],
   "source": [
    "documents = [\n",
    "\"wet snow falls in winter snow falls\",\n",
    "\"cold and wet in winter\",\n",
    "\"cold wet snow packs best best\",\n",
    "\"cold snow is cold and wet\"]\n",
    "\n",
    "filenames = [\"A\", \"B\", \"C\", \"D\"]"
   ]
  },
  {
   "cell_type": "code",
   "execution_count": 3,
   "metadata": {
    "collapsed": true
   },
   "outputs": [],
   "source": [
    "######\n",
    "# Uncomment this section for loading in the documents, replacing \n",
    "# WheelOfTime with Poems or Books\n",
    "######\n",
    "\n",
    "#filedir = \"Corpus2020/Books\"\n",
    "#documents = []\n",
    "#filenames = []\n",
    "#for f in os.listdir(filedir):\n",
    "#    if f.endswith(\".txt\"):\n",
    "#        filenames.append(f[:-4].replace(\"_\", \" \"))\n",
    "#        fopen = open(filedir + \"/\" + f)\n",
    "#        documents.append(re.sub(r'[^\\w\\s]', '', fopen.read().lower().replace(\"\\n\", \" \")))"
   ]
  },
  {
   "cell_type": "markdown",
   "metadata": {},
   "source": [
    "# Part 1 - Finding tf-idf matrix\n",
    "\n",
    "Write a function to find the term frequencies for all documents. It should return a dictionary, where the key is the name of the file, and the value is a dictionary of term frequency counts."
   ]
  },
  {
   "cell_type": "code",
   "execution_count": 4,
   "metadata": {
    "collapsed": true
   },
   "outputs": [],
   "source": [
    "def term_freqs(text, names):\n",
    "\n",
    "    ## WRITE ME ##"
   ]
  },
  {
   "cell_type": "code",
   "execution_count": 5,
   "metadata": {},
   "outputs": [
    {
     "data": {
      "text/plain": [
       "{'A': {'falls': 2, 'in': 1, 'snow': 2, 'wet': 1, 'winter': 1},\n",
       " 'B': {'and': 1, 'cold': 1, 'in': 1, 'wet': 1, 'winter': 1},\n",
       " 'C': {'best': 2, 'cold': 1, 'packs': 1, 'snow': 1, 'wet': 1},\n",
       " 'D': {'and': 1, 'cold': 2, 'is': 1, 'snow': 1, 'wet': 1}}"
      ]
     },
     "execution_count": 5,
     "metadata": {},
     "output_type": "execute_result"
    }
   ],
   "source": [
    "tf = term_freqs(documents, filenames)\n",
    "tf"
   ]
  },
  {
   "cell_type": "markdown",
   "metadata": {},
   "source": [
    "Write a function to return a list of all words in the corpus without duplicates. To facilitate fast lookup when checking for uniqueness, use the $set()$ class."
   ]
  },
  {
   "cell_type": "code",
   "execution_count": 6,
   "metadata": {
    "collapsed": true
   },
   "outputs": [],
   "source": [
    "def all_terms(text):\n",
    "\n",
    "    ## WRITE ME ##"
   ]
  },
  {
   "cell_type": "code",
   "execution_count": 7,
   "metadata": {},
   "outputs": [
    {
     "data": {
      "text/plain": [
       "['packs', 'wet', 'and', 'snow', 'winter', 'falls', 'in', 'best', 'cold', 'is']"
      ]
     },
     "execution_count": 7,
     "metadata": {},
     "output_type": "execute_result"
    }
   ],
   "source": [
    "terms = all_terms(documents)\n",
    "terms"
   ]
  },
  {
   "cell_type": "markdown",
   "metadata": {},
   "source": [
    "Write a function to return a dictionary where the keys are the words in the corpus and the values are the inverse document frequency for that term. Again, to make this efficient, make use of the $set()$ class.\n",
    "\n",
    "$$idf(t, D) = log\\frac{N}{|\\{d \\in D : t \\in d\\}|}$$"
   ]
  },
  {
   "cell_type": "code",
   "execution_count": 8,
   "metadata": {
    "collapsed": true
   },
   "outputs": [],
   "source": [
    "def inv_doc_freqs(text, terms):\n",
    "\n",
    "    ## WRITE ME ##"
   ]
  },
  {
   "cell_type": "code",
   "execution_count": 9,
   "metadata": {},
   "outputs": [
    {
     "data": {
      "text/plain": [
       "{'and': 0.6931471805599453,\n",
       " 'best': 1.3862943611198906,\n",
       " 'cold': 0.28768207245178085,\n",
       " 'falls': 1.3862943611198906,\n",
       " 'in': 0.6931471805599453,\n",
       " 'is': 1.3862943611198906,\n",
       " 'packs': 1.3862943611198906,\n",
       " 'snow': 0.28768207245178085,\n",
       " 'wet': 0.0,\n",
       " 'winter': 0.6931471805599453}"
      ]
     },
     "execution_count": 9,
     "metadata": {},
     "output_type": "execute_result"
    }
   ],
   "source": [
    "idf = inv_doc_freqs(documents, terms)\n",
    "idf"
   ]
  },
  {
   "cell_type": "markdown",
   "metadata": {},
   "source": [
    "Write a function that returns a 2D matrix, with a column for each word in the corpus, and a row for each document in the corpus. The values for a row and column will be the tf-idf score for that word in that document."
   ]
  },
  {
   "cell_type": "code",
   "execution_count": 10,
   "metadata": {
    "collapsed": true
   },
   "outputs": [],
   "source": [
    "def find_tfidf(tf, idf, terms):\n",
    "\n",
    "    ## WRITE ME ##"
   ]
  },
  {
   "cell_type": "code",
   "execution_count": 11,
   "metadata": {
    "collapsed": true
   },
   "outputs": [],
   "source": [
    "tfidf = find_tfidf(tf, idf, terms)"
   ]
  },
  {
   "cell_type": "markdown",
   "metadata": {},
   "source": [
    "The function below will print our small Snow matrix in a readable format. \n",
    "\n",
    "**Note:** This function will be useless on the larger datasets with many unique words, and should be commented out."
   ]
  },
  {
   "cell_type": "code",
   "execution_count": 12,
   "metadata": {},
   "outputs": [
    {
     "data": {
      "text/plain": [
       "     snow   is     wet    best   packs  and    winter falls  in     cold\n",
       "A: 0.575  0.000  0.000  0.000  0.000  0.000  0.693  2.773  0.693  0.000\n",
       "B: 0.000  0.000  0.000  0.000  0.000  0.693  0.693  0.000  0.693  0.288\n",
       "C: 0.288  0.000  0.000  2.773  1.386  0.000  0.000  0.000  0.000  0.288\n",
       "D: 0.288  1.386  0.000  0.000  0.000  0.693  0.000  0.000  0.000  0.575\n"
      ]
     },
     "execution_count": 12,
     "metadata": {},
     "output_type": "execute_result"
    }
   ],
   "source": [
    "def pretty_matrix(col_head, row_head, matrix):\n",
    "    top = \"   \"\n",
    "    for t in col_head:\n",
    "        top += '{:7s}'.format(t)\n",
    "    print(top)\n",
    "    for i in range(len(matrix)):\n",
    "        d = matrix[i]\n",
    "        s = row_head[i] + \": \"\n",
    "        for f in d:\n",
    "            s += f'{f:5.3f}' + \"  \"\n",
    "        print(s)\n",
    "        \n",
    "pretty_matrix(terms, filenames, tfidf)"
   ]
  },
  {
   "cell_type": "markdown",
   "metadata": {},
   "source": [
    "# Part 2 - Distance Matrix and Cosine Similarity"
   ]
  },
  {
   "cell_type": "markdown",
   "metadata": {},
   "source": [
    "Write a function to calculate the dot product of two vectors $\\bf{a}$ and $\\bf{b}$.\n",
    "\n",
    "$$\\mathbf{a} \\cdot \\mathbf{b} = \\sum_{i=1}^{n} a_ib_i$$"
   ]
  },
  {
   "cell_type": "code",
   "execution_count": 13,
   "metadata": {
    "collapsed": true
   },
   "outputs": [],
   "source": [
    "def dot_product(a, b):\n",
    "\n",
    "    ## WRITE ME ##"
   ]
  },
  {
   "cell_type": "code",
   "execution_count": 14,
   "metadata": {},
   "outputs": [
    {
     "name": "stdout",
     "output_type": "stream",
     "text": [
      "56\n",
      "32\n",
      "6\n",
      "10\n",
      "0\n"
     ]
    }
   ],
   "source": [
    "print(dot_product([1, 2, 3], [4, 8, 12]))\n",
    "print(dot_product([1, 2, 3], [4, 5, 6]))\n",
    "print(dot_product([1, 2, 3], [1, 1, 1]))\n",
    "print(dot_product([1, 2, 3], [3, 2, 1]))\n",
    "print(dot_product([3, 0, 3], [0, 3, 0]))"
   ]
  },
  {
   "cell_type": "markdown",
   "metadata": {},
   "source": [
    "Write a function to calculate the cosine similarity of two vectors $\\bf{a}$ and $\\bf{b}$.\n",
    "\n",
    "$$cos(\\theta) = \\frac{\\mathbf{a} \\cdot \\mathbf{b}}{||\\mathbf{a}||~||\\mathbf{b}||}$$\n",
    "\n",
    "where \n",
    "\n",
    "$$||\\mathbf{a}|| = \\sqrt{\\mathbf{a} \\cdot \\mathbf{a}}$$"
   ]
  },
  {
   "cell_type": "code",
   "execution_count": 15,
   "metadata": {
    "collapsed": true
   },
   "outputs": [],
   "source": [
    "def cosine_sim(a, b):\n",
    "\n",
    "    ## WRITE ME ##"
   ]
  },
  {
   "cell_type": "code",
   "execution_count": 16,
   "metadata": {},
   "outputs": [
    {
     "name": "stdout",
     "output_type": "stream",
     "text": [
      "1.0\n",
      "0.9746318461970762\n",
      "0.9258200997725515\n",
      "0.7142857142857143\n",
      "0.0\n"
     ]
    }
   ],
   "source": [
    "print(cosine_sim([1, 2, 3], [4, 8, 12]))\n",
    "print(cosine_sim([1, 2, 3], [4, 5, 6]))\n",
    "print(cosine_sim([1, 2, 3], [1, 1, 1]))\n",
    "print(cosine_sim([1, 2, 3], [3, 2, 1]))\n",
    "print(cosine_sim([3, 0, 3], [0, 3, 0]))"
   ]
  },
  {
   "cell_type": "markdown",
   "metadata": {},
   "source": [
    "Write a function to calculate the distance matrix between all row vectors in our tf-idf matrix. The distance should be $1-cosine\\_sim$."
   ]
  },
  {
   "cell_type": "code",
   "execution_count": 17,
   "metadata": {
    "collapsed": true
   },
   "outputs": [],
   "source": [
    "def dist_matrix(vecs):\n",
    "\n",
    "    ## WRITE ME ##"
   ]
  },
  {
   "cell_type": "code",
   "execution_count": 18,
   "metadata": {},
   "outputs": [
    {
     "name": "stdout",
     "output_type": "stream",
     "text": [
      "   A      B      C      D      \n",
      "A: 0.000  0.740  0.982  0.967  \n",
      "B: 0.740  0.000  0.979  0.688  \n",
      "C: 0.982  0.979  0.000  0.953  \n",
      "D: 0.967  0.688  0.953  -0.000  \n"
     ]
    }
   ],
   "source": [
    "dmat = dist_matrix(tfidf)\n",
    "pretty_matrix(filenames, filenames, dmat)"
   ]
  },
  {
   "cell_type": "markdown",
   "metadata": {},
   "source": [
    "# Part 3 - Clustering with UPGMA"
   ]
  },
  {
   "cell_type": "markdown",
   "metadata": {},
   "source": [
    "Write a function to calculate the nearest pair of documents when given a matrix of distances between them. The function should return a tuple listing the index of the first document, the index of the second document, and their distance."
   ]
  },
  {
   "cell_type": "code",
   "execution_count": 19,
   "metadata": {
    "collapsed": true
   },
   "outputs": [],
   "source": [
    "def nearest(matrix):\n",
    "\n",
    "    ## WRITE ME ##"
   ]
  },
  {
   "cell_type": "code",
   "execution_count": 20,
   "metadata": {},
   "outputs": [
    {
     "data": {
      "text/plain": [
       "(1, 3, 0.6881940602419325)"
      ]
     },
     "execution_count": 20,
     "metadata": {},
     "output_type": "execute_result"
    }
   ],
   "source": [
    "nearest(dmat)"
   ]
  },
  {
   "cell_type": "markdown",
   "metadata": {},
   "source": [
    "Clusters are defined by a list with 4 values:\n",
    "\n",
    "* index of first child\n",
    "* index of second child\n",
    "* distance between children\n",
    "* number of documents in the cluster\n",
    "\n",
    "This is a function to create the list of initial clusters for the leaves in our tree. We have one cluster for each of our original documents."
   ]
  },
  {
   "cell_type": "code",
   "execution_count": 21,
   "metadata": {
    "collapsed": true
   },
   "outputs": [],
   "source": [
    "def init_clusters(matrix):\n",
    "    clusters = []\n",
    "    for i in range(len(matrix)):\n",
    "        clusters.append([i, i, 0, 1])\n",
    "    return clusters"
   ]
  },
  {
   "cell_type": "code",
   "execution_count": 22,
   "metadata": {},
   "outputs": [
    {
     "data": {
      "text/plain": [
       "[[0, 0, 0, 1], [1, 1, 0, 1], [2, 2, 0, 1], [3, 3, 0, 1]]"
      ]
     },
     "execution_count": 22,
     "metadata": {},
     "output_type": "execute_result"
    }
   ],
   "source": [
    "c = init_clusters(dmat)\n",
    "c"
   ]
  },
  {
   "cell_type": "markdown",
   "metadata": {},
   "source": [
    "Write a function to calculate the unweighted distance of a new cluster formed from $A$ and $B$ to another cluster $X$, when given the size of the clusters $A$ and $B$ and their distances to $X$. This will be used in the UPGMA algorithm below.\n",
    "\n",
    "$$d_{(A \\cup B),X} = \\frac{|A|~d_{A,X}~+~|B|~d_{B,X}}{|A|~+~|B|}$$"
   ]
  },
  {
   "cell_type": "code",
   "execution_count": 23,
   "metadata": {
    "collapsed": true
   },
   "outputs": [],
   "source": [
    "def new_dist(a_size, b_size, d_a_x, d_b_x):\n",
    "\n",
    "    ## WRITE ME ##"
   ]
  },
  {
   "cell_type": "code",
   "execution_count": 24,
   "metadata": {},
   "outputs": [
    {
     "name": "stdout",
     "output_type": "stream",
     "text": [
      "0.8534999999999999\n",
      "0.8156666666666667\n"
     ]
    }
   ],
   "source": [
    "print(new_dist(1, 1, 0.740, 0.967))\n",
    "print(new_dist(2, 1, 0.740, 0.967))"
   ]
  },
  {
   "cell_type": "markdown",
   "metadata": {},
   "source": [
    "Finally, write a function that brings in a distance matrix and creates clusters using the UPGMA algorithm. This algorithm  iteratively combines the two closest clusters until there is one single tree. Here is the pseudocode for this algorithm:\n",
    "\n",
    "* Create the initial list of leaf clusters\n",
    "* While we still have multiple independent clusters\n",
    "  * Find the nearest two clusters according to our distance matrix\n",
    "  * Join these two clusters to make a new cluster\n",
    "  * Add new distances to our matrix for every row and column between it and the new cluster\n",
    "* Return the list of created clusters, minus the initial leaves"
   ]
  },
  {
   "cell_type": "code",
   "execution_count": 25,
   "metadata": {
    "collapsed": true
   },
   "outputs": [],
   "source": [
    "def upgma(m):\n",
    "\n",
    "    ## WRITE ME ##"
   ]
  },
  {
   "cell_type": "code",
   "execution_count": 26,
   "metadata": {},
   "outputs": [
    {
     "data": {
      "text/plain": [
       "[[1, 3, 0.6881940602419325, 2],\n",
       " [0, 4, 0.8536675922317023, 3],\n",
       " [2, 5, 0.9711888322946779, 4]]"
      ]
     },
     "execution_count": 26,
     "metadata": {},
     "output_type": "execute_result"
    }
   ],
   "source": [
    "c = upgma(dmat[:])\n",
    "c"
   ]
  },
  {
   "cell_type": "markdown",
   "metadata": {},
   "source": [
    "# Part 4 - Dendrogram"
   ]
  },
  {
   "cell_type": "markdown",
   "metadata": {},
   "source": [
    "Finally, we can use the $dendrogram$ function in the $scipy.hierarchy$ module to draw the resulting tree from our clustered data."
   ]
  },
  {
   "cell_type": "code",
   "execution_count": 27,
   "metadata": {},
   "outputs": [
    {
     "data": {
      "text/plain": [
       "<matplotlib.figure.Figure at 0x10fefe2b0>"
      ]
     },
     "metadata": {},
     "output_type": "display_data"
    },
    {
     "data": {
      "image/png": "[encoded data removed]",
      "text/plain": [
       "<matplotlib.figure.Figure at 0x10fefe6a0>"
      ]
     },
     "metadata": {},
     "output_type": "display_data"
    }
   ],
   "source": [
    "plt.figure()\n",
    "plt.figure(figsize=(10, 6))\n",
    "dn = hierarchy.dendrogram(c, labels = filenames, leaf_rotation=90 )\n",
    "plt.title(\"UPGMA Clustering of Winter Sentences using tf-idf\")\n",
    "plt.ylabel(\"cosine distance\")\n",
    "plt.show()"
   ]
  },
  {
   "cell_type": "markdown",
   "metadata": {},
   "source": [
    "**Note:** The experiments and discussion in part 5 rely on a working UPGMA function. If you have completed part 2 to get the distance matrix dmat but are struggling with part 3, then you can use the following code to compute the clusters, it is equivalent to our UPGMA code.\n",
    "\n",
    "    c = hierarchy.linkage(np.array(dmat), 'average')\n",
    "\n",
    "You would not receive credit for step 3, but it will enable you to run the code in step 4 and complete the experiments in step 5."
   ]
  },
  {
   "cell_type": "code",
   "execution_count": null,
   "metadata": {},
   "outputs": [],
   "source": []
  },
  {
   "cell_type": "markdown",
   "metadata": {},
   "source": [
    "# Part 5 - Experiments and Discussion"
   ]
  },
  {
   "cell_type": "markdown",
   "metadata": {},
   "source": [
    "Draw a dendrogram and discuss the results of your clustering for each of the following four experiments\n",
    "* Poems using tf only\n",
    "* Poems using tf-idf\n",
    "* Books using tf only\n",
    "* Books using tf-idf"
   ]
  },
  {
   "cell_type": "code",
   "execution_count": null,
   "metadata": {
    "collapsed": true
   },
   "outputs": [],
   "source": []
  },
  {
   "cell_type": "markdown",
   "metadata": {},
   "source": [
    "Find two new books to compare with your texts, one that you believe will match another in writing style, and one that will match in content. Repeat the above analysis, and explicitly denote the closest book from the corpus using the cosine similarity metric. Was your hypothesis correct?"
   ]
  },
  {
   "cell_type": "code",
   "execution_count": null,
   "metadata": {
    "collapsed": true
   },
   "outputs": [],
   "source": []
  }
 ],
 "metadata": {
  "kernelspec": {
   "display_name": "Python 3",
   "language": "python",
   "name": "python3"
  },
  "language_info": {
   "codemirror_mode": {
    "name": "ipython",
    "version": 3
   },
   "file_extension": ".py",
   "mimetype": "text/x-python",
   "name": "python",
   "nbconvert_exporter": "python",
   "pygments_lexer": "ipython3",
   "version": "3.7.4"
  }
 },
 "nbformat": 4,
 "nbformat_minor": 2
}
