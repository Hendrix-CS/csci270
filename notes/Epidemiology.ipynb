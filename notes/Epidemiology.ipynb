{
 "cells": [
  {
   "cell_type": "code",
   "execution_count": 1,
   "metadata": {},
   "outputs": [],
   "source": [
    "%matplotlib inline\n",
    "import pandas as pd\n",
    "from plotnine import *"
   ]
  },
  {
   "cell_type": "code",
   "execution_count": 11,
   "metadata": {},
   "outputs": [],
   "source": [
    "# Infected\n",
    "# Susceptible\n",
    "# Recovered\n",
    "\n",
    "I = 0.001\n",
    "S = 1 - I\n",
    "R = 0\n",
    "#D = 0\n",
    "num_contacts = 15\n",
    "prob_trans = 0.03\n",
    "duration = 10\n",
    "\n",
    "sim_length = 120\n",
    "\n",
    "gamma = 1 / duration\n",
    "alpha = 0.01\n",
    "beta = num_contacts * prob_trans\n",
    "#delta = 0.03\n",
    "\n",
    "r_0 = beta / gamma\n",
    "\n",
    "x = []\n",
    "yS = []\n",
    "yI = []\n",
    "yR = []\n",
    "#yD = []\n",
    "\n",
    "for i in range(sim_length + 1):\n",
    "\n",
    "    \n",
    "    x.append(i)\n",
    "    yS.append(S)\n",
    "    yI.append(I)\n",
    "    yR.append(R)\n",
    "    \n",
    "#    yD.append(D)\n",
    "    \n",
    "    S_old = S\n",
    "    I_old = I\n",
    "    R_old = R\n",
    "#    D_old = D\n",
    "#    num_cont_old = num_contacts\n",
    "\n",
    "#    num_contacts = 0.98 * num_cont_old\n",
    "    S += -beta * I_old * S_old\n",
    "    I += beta * I_old * S_old - gamma * I# - delta * I\n",
    "    R += gamma * I_old \n",
    "#    D += delta * I"
   ]
  },
  {
   "cell_type": "code",
   "execution_count": 12,
   "metadata": {},
   "outputs": [
    {
     "data": {
      "text/plain": [
       "0.008230582639515534"
      ]
     },
     "execution_count": 12,
     "metadata": {},
     "output_type": "execute_result"
    }
   ],
   "source": [
    "S"
   ]
  },
  {
   "cell_type": "code",
   "execution_count": 13,
   "metadata": {},
   "outputs": [
    {
     "data": {
      "text/plain": [
       "5.1446230223037976e-05"
      ]
     },
     "execution_count": 13,
     "metadata": {},
     "output_type": "execute_result"
    }
   ],
   "source": [
    "I"
   ]
  },
  {
   "cell_type": "code",
   "execution_count": 14,
   "metadata": {},
   "outputs": [
    {
     "data": {
      "text/plain": [
       "0.991717971130262"
      ]
     },
     "execution_count": 14,
     "metadata": {},
     "output_type": "execute_result"
    }
   ],
   "source": [
    "R"
   ]
  },
  {
   "cell_type": "code",
   "execution_count": 15,
   "metadata": {},
   "outputs": [],
   "source": [
    "d = pd.DataFrame(list(zip(x, yS, yI, yR)), #, yD)), \n",
    "                 columns=[\"Time\", \"Susceptible\", \"Infected\", \"Recovered\"])#, \"Died\"])"
   ]
  },
  {
   "cell_type": "code",
   "execution_count": 16,
   "metadata": {},
   "outputs": [
    {
     "data": {
      "text/html": [
       "<div>\n",
       "<style scoped>\n",
       "    .dataframe tbody tr th:only-of-type {\n",
       "        vertical-align: middle;\n",
       "    }\n",
       "\n",
       "    .dataframe tbody tr th {\n",
       "        vertical-align: top;\n",
       "    }\n",
       "\n",
       "    .dataframe thead th {\n",
       "        text-align: right;\n",
       "    }\n",
       "</style>\n",
       "<table border=\"1\" class=\"dataframe\">\n",
       "  <thead>\n",
       "    <tr style=\"text-align: right;\">\n",
       "      <th></th>\n",
       "      <th>Time</th>\n",
       "      <th>Susceptible</th>\n",
       "      <th>Infected</th>\n",
       "      <th>Recovered</th>\n",
       "    </tr>\n",
       "  </thead>\n",
       "  <tbody>\n",
       "    <tr>\n",
       "      <td>0</td>\n",
       "      <td>0</td>\n",
       "      <td>0.999000</td>\n",
       "      <td>0.001000</td>\n",
       "      <td>0.000000</td>\n",
       "    </tr>\n",
       "    <tr>\n",
       "      <td>1</td>\n",
       "      <td>1</td>\n",
       "      <td>0.998550</td>\n",
       "      <td>0.001350</td>\n",
       "      <td>0.000100</td>\n",
       "    </tr>\n",
       "    <tr>\n",
       "      <td>2</td>\n",
       "      <td>2</td>\n",
       "      <td>0.997944</td>\n",
       "      <td>0.001821</td>\n",
       "      <td>0.000235</td>\n",
       "    </tr>\n",
       "    <tr>\n",
       "      <td>3</td>\n",
       "      <td>3</td>\n",
       "      <td>0.997126</td>\n",
       "      <td>0.002457</td>\n",
       "      <td>0.000417</td>\n",
       "    </tr>\n",
       "    <tr>\n",
       "      <td>4</td>\n",
       "      <td>4</td>\n",
       "      <td>0.996024</td>\n",
       "      <td>0.003313</td>\n",
       "      <td>0.000663</td>\n",
       "    </tr>\n",
       "    <tr>\n",
       "      <td>...</td>\n",
       "      <td>...</td>\n",
       "      <td>...</td>\n",
       "      <td>...</td>\n",
       "      <td>...</td>\n",
       "    </tr>\n",
       "    <tr>\n",
       "      <td>116</td>\n",
       "      <td>116</td>\n",
       "      <td>0.008232</td>\n",
       "      <td>0.000085</td>\n",
       "      <td>0.991683</td>\n",
       "    </tr>\n",
       "    <tr>\n",
       "      <td>117</td>\n",
       "      <td>117</td>\n",
       "      <td>0.008232</td>\n",
       "      <td>0.000077</td>\n",
       "      <td>0.991691</td>\n",
       "    </tr>\n",
       "    <tr>\n",
       "      <td>118</td>\n",
       "      <td>118</td>\n",
       "      <td>0.008231</td>\n",
       "      <td>0.000070</td>\n",
       "      <td>0.991699</td>\n",
       "    </tr>\n",
       "    <tr>\n",
       "      <td>119</td>\n",
       "      <td>119</td>\n",
       "      <td>0.008231</td>\n",
       "      <td>0.000063</td>\n",
       "      <td>0.991706</td>\n",
       "    </tr>\n",
       "    <tr>\n",
       "      <td>120</td>\n",
       "      <td>120</td>\n",
       "      <td>0.008231</td>\n",
       "      <td>0.000057</td>\n",
       "      <td>0.991712</td>\n",
       "    </tr>\n",
       "  </tbody>\n",
       "</table>\n",
       "<p>121 rows × 4 columns</p>\n",
       "</div>"
      ],
      "text/plain": [
       "     Time  Susceptible  Infected  Recovered\n",
       "0       0     0.999000  0.001000   0.000000\n",
       "1       1     0.998550  0.001350   0.000100\n",
       "2       2     0.997944  0.001821   0.000235\n",
       "3       3     0.997126  0.002457   0.000417\n",
       "4       4     0.996024  0.003313   0.000663\n",
       "..    ...          ...       ...        ...\n",
       "116   116     0.008232  0.000085   0.991683\n",
       "117   117     0.008232  0.000077   0.991691\n",
       "118   118     0.008231  0.000070   0.991699\n",
       "119   119     0.008231  0.000063   0.991706\n",
       "120   120     0.008231  0.000057   0.991712\n",
       "\n",
       "[121 rows x 4 columns]"
      ]
     },
     "execution_count": 16,
     "metadata": {},
     "output_type": "execute_result"
    }
   ],
   "source": [
    "d"
   ]
  },
  {
   "cell_type": "code",
   "execution_count": 17,
   "metadata": {},
   "outputs": [],
   "source": [
    "dmelt = d.melt(id_vars=[\"Time\"],\n",
    "               value_vars=[\"Susceptible\", \"Infected\", \"Recovered\"],#, \"Died\"], \n",
    "               var_name=\"series\", \n",
    "               value_name=\"percent\")"
   ]
  },
  {
   "cell_type": "code",
   "execution_count": 18,
   "metadata": {},
   "outputs": [
    {
     "data": {
      "text/html": [
       "<div>\n",
       "<style scoped>\n",
       "    .dataframe tbody tr th:only-of-type {\n",
       "        vertical-align: middle;\n",
       "    }\n",
       "\n",
       "    .dataframe tbody tr th {\n",
       "        vertical-align: top;\n",
       "    }\n",
       "\n",
       "    .dataframe thead th {\n",
       "        text-align: right;\n",
       "    }\n",
       "</style>\n",
       "<table border=\"1\" class=\"dataframe\">\n",
       "  <thead>\n",
       "    <tr style=\"text-align: right;\">\n",
       "      <th></th>\n",
       "      <th>Time</th>\n",
       "      <th>series</th>\n",
       "      <th>percent</th>\n",
       "    </tr>\n",
       "  </thead>\n",
       "  <tbody>\n",
       "    <tr>\n",
       "      <td>0</td>\n",
       "      <td>0</td>\n",
       "      <td>Susceptible</td>\n",
       "      <td>0.999000</td>\n",
       "    </tr>\n",
       "    <tr>\n",
       "      <td>1</td>\n",
       "      <td>1</td>\n",
       "      <td>Susceptible</td>\n",
       "      <td>0.998550</td>\n",
       "    </tr>\n",
       "    <tr>\n",
       "      <td>2</td>\n",
       "      <td>2</td>\n",
       "      <td>Susceptible</td>\n",
       "      <td>0.997944</td>\n",
       "    </tr>\n",
       "    <tr>\n",
       "      <td>3</td>\n",
       "      <td>3</td>\n",
       "      <td>Susceptible</td>\n",
       "      <td>0.997126</td>\n",
       "    </tr>\n",
       "    <tr>\n",
       "      <td>4</td>\n",
       "      <td>4</td>\n",
       "      <td>Susceptible</td>\n",
       "      <td>0.996024</td>\n",
       "    </tr>\n",
       "    <tr>\n",
       "      <td>...</td>\n",
       "      <td>...</td>\n",
       "      <td>...</td>\n",
       "      <td>...</td>\n",
       "    </tr>\n",
       "    <tr>\n",
       "      <td>358</td>\n",
       "      <td>116</td>\n",
       "      <td>Recovered</td>\n",
       "      <td>0.991683</td>\n",
       "    </tr>\n",
       "    <tr>\n",
       "      <td>359</td>\n",
       "      <td>117</td>\n",
       "      <td>Recovered</td>\n",
       "      <td>0.991691</td>\n",
       "    </tr>\n",
       "    <tr>\n",
       "      <td>360</td>\n",
       "      <td>118</td>\n",
       "      <td>Recovered</td>\n",
       "      <td>0.991699</td>\n",
       "    </tr>\n",
       "    <tr>\n",
       "      <td>361</td>\n",
       "      <td>119</td>\n",
       "      <td>Recovered</td>\n",
       "      <td>0.991706</td>\n",
       "    </tr>\n",
       "    <tr>\n",
       "      <td>362</td>\n",
       "      <td>120</td>\n",
       "      <td>Recovered</td>\n",
       "      <td>0.991712</td>\n",
       "    </tr>\n",
       "  </tbody>\n",
       "</table>\n",
       "<p>363 rows × 3 columns</p>\n",
       "</div>"
      ],
      "text/plain": [
       "     Time       series   percent\n",
       "0       0  Susceptible  0.999000\n",
       "1       1  Susceptible  0.998550\n",
       "2       2  Susceptible  0.997944\n",
       "3       3  Susceptible  0.997126\n",
       "4       4  Susceptible  0.996024\n",
       "..    ...          ...       ...\n",
       "358   116    Recovered  0.991683\n",
       "359   117    Recovered  0.991691\n",
       "360   118    Recovered  0.991699\n",
       "361   119    Recovered  0.991706\n",
       "362   120    Recovered  0.991712\n",
       "\n",
       "[363 rows x 3 columns]"
      ]
     },
     "execution_count": 18,
     "metadata": {},
     "output_type": "execute_result"
    }
   ],
   "source": [
    "dmelt"
   ]
  },
  {
   "cell_type": "code",
   "execution_count": 19,
   "metadata": {},
   "outputs": [
    {
     "data": {
      "image/png": "[encoded data removed]",
      "text/plain": [
       "<Figure size 640x480 with 1 Axes>"
      ]
     },
     "metadata": {},
     "output_type": "display_data"
    },
    {
     "data": {
      "text/plain": [
       "<ggplot: (7546256273)>"
      ]
     },
     "execution_count": 19,
     "metadata": {},
     "output_type": "execute_result"
    }
   ],
   "source": [
    "ggplot(dmelt, aes(x=\"Time\", y=\"percent\", color=\"series\", group=\"series\")) + \\\n",
    "geom_line() + \\\n",
    "labs(title=\"SIR Epidemiology Model, R0 = \" + str(r_0))"
   ]
  },
  {
   "cell_type": "code",
   "execution_count": null,
   "metadata": {},
   "outputs": [],
   "source": []
  },
  {
   "cell_type": "code",
   "execution_count": null,
   "metadata": {},
   "outputs": [],
   "source": []
  },
  {
   "cell_type": "code",
   "execution_count": null,
   "metadata": {},
   "outputs": [],
   "source": []
  },
  {
   "cell_type": "code",
   "execution_count": null,
   "metadata": {},
   "outputs": [],
   "source": []
  },
  {
   "cell_type": "code",
   "execution_count": null,
   "metadata": {},
   "outputs": [],
   "source": []
  }
 ],
 "metadata": {
  "kernelspec": {
   "display_name": "Python 3",
   "language": "python",
   "name": "python3"
  },
  "language_info": {
   "codemirror_mode": {
    "name": "ipython",
    "version": 3
   },
   "file_extension": ".py",
   "mimetype": "text/x-python",
   "name": "python",
   "nbconvert_exporter": "python",
   "pygments_lexer": "ipython3",
   "version": "3.7.4"
  }
 },
 "nbformat": 4,
 "nbformat_minor": 2
}
