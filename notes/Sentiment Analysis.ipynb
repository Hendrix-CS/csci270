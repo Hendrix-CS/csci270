{
 "cells": [
  {
   "cell_type": "markdown",
   "metadata": {},
   "source": [
    "# Sentiment Analysis"
   ]
  },
  {
   "cell_type": "code",
   "execution_count": 1,
   "metadata": {},
   "outputs": [],
   "source": [
    "%matplotlib inline\n",
    "from matplotlib import pyplot as plt\n",
    "from nltk import sentiment\n",
    "from nltk.sentiment.vader import SentimentIntensityAnalyzer\n",
    "from nltk import tokenize\n",
    "from afinn import Afinn"
   ]
  },
  {
   "cell_type": "code",
   "execution_count": 2,
   "metadata": {},
   "outputs": [],
   "source": [
    "paragraph = \"\"\"This is a fun fun amazing a test. \n",
    "We can't not take it seriously. \n",
    "It was one of the worst movies I've seen, despite good reviews. \n",
    "Unbelievably bad acting!! \n",
    "Poor direction. \n",
    "VERY poor production. \n",
    "The movie was bad. \n",
    "Very bad movie. \n",
    "VERY bad movie. \n",
    "VERY BAD movie. \n",
    "VERY BAD movie!\n",
    "I didn't like this movie. \n",
    "I like to hate Michael Bay films, but I couldn't fault this one.\n",
    "This movie doesn't care about cleverness, wit or any other kind of intelligent humor.\n",
    "Most automated sentiment analysis tools are shit.\n",
    "Our sentiment analysis is the shit.\"\"\""
   ]
  },
  {
   "cell_type": "code",
   "execution_count": 3,
   "metadata": {},
   "outputs": [],
   "source": [
    "lines_list = tokenize.sent_tokenize(paragraph)"
   ]
  },
  {
   "cell_type": "markdown",
   "metadata": {},
   "source": [
    "## Liu and Hu Lexicon"
   ]
  },
  {
   "cell_type": "code",
   "execution_count": 4,
   "metadata": {},
   "outputs": [
    {
     "name": "stdout",
     "output_type": "stream",
     "text": [
      "Positive\n"
     ]
    }
   ],
   "source": [
    "sentiment.util.demo_liu_hu_lexicon(\"this is fun fun amazing a test\")"
   ]
  },
  {
   "cell_type": "code",
   "execution_count": 6,
   "metadata": {},
   "outputs": [
    {
     "name": "stdout",
     "output_type": "stream",
     "text": [
      "Positive\n"
     ]
    },
    {
     "data": {
      "image/png": "[encoded data removed]",
      "text/plain": [
       "<Figure size 432x288 with 1 Axes>"
      ]
     },
     "metadata": {
      "needs_background": "light"
     },
     "output_type": "display_data"
    }
   ],
   "source": [
    "sentiment.util.demo_liu_hu_lexicon(\"this is fun fun condescending amazing a test\", plot=True)"
   ]
  },
  {
   "cell_type": "code",
   "execution_count": 7,
   "metadata": {},
   "outputs": [
    {
     "name": "stdout",
     "output_type": "stream",
     "text": [
      "Positive\n",
      "This is a fun fun amazing a test.\n",
      "Neutral\n",
      "We can't not take it seriously.\n",
      "Neutral\n",
      "It was one of the worst movies I've seen, despite good reviews.\n",
      "Negative\n",
      "Unbelievably bad acting!!\n",
      "Negative\n",
      "Poor direction.\n",
      "Negative\n",
      "VERY poor production.\n",
      "Negative\n",
      "The movie was bad.\n",
      "Negative\n",
      "Very bad movie.\n",
      "Negative\n",
      "VERY bad movie.\n",
      "Negative\n",
      "VERY BAD movie.\n",
      "Negative\n",
      "VERY BAD movie!\n",
      "Positive\n",
      "I didn't like this movie.\n",
      "Negative\n",
      "I like to hate Michael Bay films, but I couldn't fault this one.\n",
      "Positive\n",
      "This movie doesn't care about cleverness, wit or any other kind of intelligent humor.\n",
      "Negative\n",
      "Most automated sentiment analysis tools are shit.\n",
      "Negative\n",
      "Our sentiment analysis is the shit.\n"
     ]
    }
   ],
   "source": [
    "for line in lines_list:\n",
    "    sentiment.util.demo_liu_hu_lexicon(line)\n",
    "    print(line)"
   ]
  },
  {
   "cell_type": "markdown",
   "metadata": {},
   "source": [
    "## AFINN"
   ]
  },
  {
   "cell_type": "code",
   "execution_count": 8,
   "metadata": {},
   "outputs": [
    {
     "data": {
      "text/plain": [
       "3.0"
      ]
     },
     "execution_count": 8,
     "metadata": {},
     "output_type": "execute_result"
    }
   ],
   "source": [
    "afinn = Afinn()\n",
    "afinn.score('This is utterly excellent!')"
   ]
  },
  {
   "cell_type": "code",
   "execution_count": 9,
   "metadata": {},
   "outputs": [
    {
     "name": "stdout",
     "output_type": "stream",
     "text": [
      "12.0 This is a fun fun amazing a test.\n",
      "0.0 We can't not take it seriously.\n",
      "0.0 It was one of the worst movies I've seen, despite good reviews.\n",
      "-3.0 Unbelievably bad acting!!\n",
      "-2.0 Poor direction.\n",
      "-2.0 VERY poor production.\n",
      "-3.0 The movie was bad.\n",
      "-3.0 Very bad movie.\n",
      "-3.0 VERY bad movie.\n",
      "-3.0 VERY BAD movie.\n",
      "-3.0 VERY BAD movie!\n",
      "2.0 I didn't like this movie.\n",
      "-1.0 I like to hate Michael Bay films, but I couldn't fault this one.\n",
      "6.0 This movie doesn't care about cleverness, wit or any other kind of intelligent humor.\n",
      "-4.0 Most automated sentiment analysis tools are shit.\n",
      "-4.0 Our sentiment analysis is the shit.\n"
     ]
    }
   ],
   "source": [
    "for line in lines_list:\n",
    "    print(afinn.score(line), line)"
   ]
  },
  {
   "cell_type": "markdown",
   "metadata": {},
   "source": [
    "## VADER"
   ]
  },
  {
   "cell_type": "code",
   "execution_count": 10,
   "metadata": {},
   "outputs": [
    {
     "name": "stdout",
     "output_type": "stream",
     "text": [
      "This is a fun fun amazing a test.\n",
      "compound: 0.886, neg: 0.0, neu: 0.224, pos: 0.776, \n",
      "We can't not take it seriously.\n",
      "compound: 0.1326, neg: 0.0, neu: 0.767, pos: 0.233, \n",
      "It was one of the worst movies I've seen, despite good reviews.\n",
      "compound: -0.7584, neg: 0.394, neu: 0.606, pos: 0.0, \n",
      "Unbelievably bad acting!!\n",
      "compound: -0.6572, neg: 0.686, neu: 0.314, pos: 0.0, \n",
      "Poor direction.\n",
      "compound: -0.4767, neg: 0.756, neu: 0.244, pos: 0.0, \n",
      "VERY poor production.\n",
      "compound: -0.6281, neg: 0.674, neu: 0.326, pos: 0.0, \n",
      "The movie was bad.\n",
      "compound: -0.5423, neg: 0.538, neu: 0.462, pos: 0.0, \n",
      "Very bad movie.\n",
      "compound: -0.5849, neg: 0.655, neu: 0.345, pos: 0.0, \n",
      "VERY bad movie.\n",
      "compound: -0.6732, neg: 0.694, neu: 0.306, pos: 0.0, \n",
      "VERY BAD movie.\n",
      "compound: -0.7398, neg: 0.724, neu: 0.276, pos: 0.0, \n",
      "VERY BAD movie!\n",
      "compound: -0.7616, neg: 0.735, neu: 0.265, pos: 0.0, \n",
      "I didn't like this movie.\n",
      "compound: -0.2755, neg: 0.413, neu: 0.587, pos: 0.0, \n",
      "I like to hate Michael Bay films, but I couldn't fault this one.\n",
      "compound: 0.3153, neg: 0.157, neu: 0.534, pos: 0.309, \n",
      "This movie doesn't care about cleverness, wit or any other kind of intelligent humor.\n",
      "compound: -0.1338, neg: 0.265, neu: 0.497, pos: 0.239, \n",
      "Most automated sentiment analysis tools are shit.\n",
      "compound: -0.5574, neg: 0.375, neu: 0.625, pos: 0.0, \n",
      "Our sentiment analysis is the shit.\n",
      "compound: 0.6124, neg: 0.0, neu: 0.556, pos: 0.444, \n"
     ]
    }
   ],
   "source": [
    "sid = SentimentIntensityAnalyzer()\n",
    "for sentence in lines_list:\n",
    "     print(sentence)\n",
    "     ss = sid.polarity_scores(sentence)\n",
    "     for k in sorted(ss):\n",
    "         print(f'{k}: {ss[k]}, ', end='')\n",
    "     print()"
   ]
  },
  {
   "cell_type": "markdown",
   "metadata": {},
   "source": [
    "## Visualizing Sentiment Over Time"
   ]
  },
  {
   "cell_type": "code",
   "execution_count": 11,
   "metadata": {},
   "outputs": [],
   "source": [
    "fopen = open(\"Corpus2020/Books/Eye_Of_The_World.txt\")\n",
    "lines_list = tokenize.sent_tokenize(fopen.read())"
   ]
  },
  {
   "cell_type": "code",
   "execution_count": 12,
   "metadata": {},
   "outputs": [
    {
     "data": {
      "text/plain": [
       "27209"
      ]
     },
     "execution_count": 12,
     "metadata": {},
     "output_type": "execute_result"
    }
   ],
   "source": [
    "sent_afinn = []\n",
    "for line in lines_list:\n",
    "    sent_afinn.append(afinn.score(line))\n",
    "len(sent_afinn)"
   ]
  },
  {
   "cell_type": "code",
   "execution_count": 13,
   "metadata": {},
   "outputs": [
    {
     "data": {
      "text/plain": [
       "-0.06960932044544085"
      ]
     },
     "execution_count": 13,
     "metadata": {},
     "output_type": "execute_result"
    },
    {
     "data": {
      "image/png": "[encoded data removed]",
      "text/plain": [
       "<Figure size 432x288 with 1 Axes>"
      ]
     },
     "metadata": {
      "needs_background": "light"
     },
     "output_type": "display_data"
    }
   ],
   "source": [
    "plt.plot(range(len(sent_afinn)), sent_afinn)\n",
    "sum(sent_afinn) / len(sent_afinn)"
   ]
  },
  {
   "cell_type": "code",
   "execution_count": 14,
   "metadata": {},
   "outputs": [
    {
     "name": "stdout",
     "output_type": "stream",
     "text": [
      "467 13.0 There would be contests at solving riddles and puzzles, at the rope tug, and lifting and tossing weights, prizes for the best singer, the best dancer and the best fiddle player, for the quickest to shear a sheep, even the best at bowls, and at darts.\n",
      "5982 13.0 \"Mara and the Three Foolish Kings,\" or one of the hundreds about Anla the Wise Counselor, or something filled with glory and adventure, like The Great Hunt of the Horn, but always with a happy ending and a joyous homecoming.\n",
      "9543 12.0 \"I may not like her, it is true,\" Nynaeve was saying to the Warder as Rand, leading Bela and Cloud, came in behind Thom, \"but I help anyone who needs my help, whether I like them or not.\"\n",
      "12402 -11.0 Perrin was sure she was hunting for the rest of the pack, though she denied it angrily when he suggested as much, denied being afraid of the wolves that paced them, denied worrying about the rest of the pack or what it was up to.\n",
      "18591 -11.0 They appeared where they were least expected, these men, and they were deadly dangerous and set on killing him and his friends, or worse.\n",
      "22427 -45.0 But when his shout failed, the echo was still there, and growing stronger:\n",
      "\n",
      "die-die-die-die-die-Die-Die-Die-Die-Die-DIE-DIE-DIE-DIE-DIE-DIE\n",
      "\n",
      "The sound pulled on him like a whirl pool, drawing him in, ripping the void in his mind to shreds.\n",
      "24291 -16.0 \"It was evil against evil in the ruins of Shadar Logoth,\" Moiraine continued, \"foul fighting vile.\n",
      "26681 -22.0 Since the time of Madness, no man has been able to channel the Power without eventually going completely, horribly mad; and then, even if he has learned some control, dying from a wasting sickness which causes the sufferer to rot alive—a sickness caused, as is the madness, by the Dark One's taint on saidin.\n"
     ]
    }
   ],
   "source": [
    "for i in range(len(sent_afinn)):\n",
    "    if sent_afinn[i] < -10 or sent_afinn[i] > 10:\n",
    "        print(i, sent_afinn[i], lines_list[i])"
   ]
  },
  {
   "cell_type": "code",
   "execution_count": 15,
   "metadata": {},
   "outputs": [],
   "source": [
    "def moving_average(data, window):\n",
    "    t = []\n",
    "    for i in range(len(data) - window):\n",
    "        t.append(sum(data[i:i+window]) / window)\n",
    "    return t"
   ]
  },
  {
   "cell_type": "code",
   "execution_count": 16,
   "metadata": {},
   "outputs": [
    {
     "data": {
      "text/plain": [
       "[<matplotlib.lines.Line2D at 0x1a20ed6e90>]"
      ]
     },
     "execution_count": 16,
     "metadata": {},
     "output_type": "execute_result"
    },
    {
     "data": {
      "image/png": "[encoded data removed]",
      "text/plain": [
       "<Figure size 432x288 with 1 Axes>"
      ]
     },
     "metadata": {
      "needs_background": "light"
     },
     "output_type": "display_data"
    }
   ],
   "source": [
    "n = moving_average(sent_afinn, 2**10)\n",
    "plt.plot(range(len(n)), n)"
   ]
  },
  {
   "cell_type": "code",
   "execution_count": 17,
   "metadata": {},
   "outputs": [
    {
     "data": {
      "text/plain": [
       "27209"
      ]
     },
     "execution_count": 17,
     "metadata": {},
     "output_type": "execute_result"
    }
   ],
   "source": [
    "sent = []\n",
    "for line in lines_list:\n",
    "    sent.append(sid.polarity_scores(line)[\"compound\"])\n",
    "len(sent)"
   ]
  },
  {
   "cell_type": "code",
   "execution_count": 21,
   "metadata": {},
   "outputs": [
    {
     "data": {
      "text/plain": [
       "0.3612"
      ]
     },
     "execution_count": 21,
     "metadata": {},
     "output_type": "execute_result"
    }
   ],
   "source": [
    "sent[22427]"
   ]
  },
  {
   "cell_type": "code",
   "execution_count": 19,
   "metadata": {},
   "outputs": [
    {
     "name": "stdout",
     "output_type": "stream",
     "text": [
      "-0.9032 \"For what else you have done, there can be no forgiveness, Betrayer, but for Ilyena's death I will destroy you beyond anything your master can repair.\n",
      "-0.9274 There was only shadow to see in the hood, but he felt hatred as sharply as if he could see a snarling face, hatred for everything that lived.\n",
      "-0.9428 Since he can wield the Power, none but Aes Sedai can defeat him, for all the battles they fight, or deal with him once he's defeated.\n",
      "-0.9501 \"In wars, boy, fools kill other fools for foolish causes.\n",
      "-0.9509 I will tell of the Time of Madness, when Aes Sedai shattered the world; of the Trolloc Wars, when men battled Trollocs for rule of the earth; of the War of the Hundred Years, when men battled men and the nations of our day were wrought.\n",
      "-0.9062 Even if it did kill the stench, they still knew the stench was there, and they still knew what they were doing.\n",
      "-0.9022 In the distance reared a single mountain, its peak broken and split, but this mountain brought no fear or despair.\n",
      "-0.9442 Two Rivers folk could fight back if they were attacked, but violence was far from common, and threatening people was foreign to them, beyond the occasional shaking of a fist.\n",
      "-0.9062 Day and night they marched, for they had seen the horror a Trolloc army left behind it, and no man of them could sleep while such a danger threatened Manetheren.\n",
      "-0.9196 As the enemy generals died, so did she die, and the fires that consumed her consumed the empty city of Manetheren, even the stones of it, down to the living rock of the mountains.\n",
      "-0.9313 Other wars would wrack them in years to come, until at last their corner of the world was forgotten and at last they had forgotten wars and the ways of war.\n",
      "-0.9118 How the armies of Manetheren came to avenge Caar and found the gates of Aridhol torn down, no living thing inside the walls, but something worse than death.\n",
      "-0.9217 Mordeth will leave, wearing the body of the one he worse than killed, to wreak his evil on the world again.\"\n",
      "-0.9109 I believe we disposed of four or five, but it is unlikely we will find any bodies, given the Darkfriends' propensity for carrying away their dead to hide their losses.\n",
      "-0.9001 Byar felt nothing beyond that he should die; there was no hate in it, no emotion at all.\n",
      "-0.9032 There was no worry on Perrin's face at all, but what was there was worse: a mask of weary resignation.\n",
      "-0.9382 The voice was Fain's, but he was no longer crying, and an arrogant snap had replaced the whine.\n",
      "-0.9287 \"Lain died in the Blasted Lands with most of those who followed him, men Malkier could ill afford to lose, and Breyan blamed the King, saying that Shayol Ghul itself would have fallen if al'Akir had led the rest of the Malkieri north with her husband.\n",
      "-0.9601 \"It was evil against evil in the ruins of Shadar Logoth,\" Moiraine continued, \"foul fighting vile.\n",
      "-0.9169 Many records were destroyed in the Trolloc Wars, so much so that with the end of the Wars there was argument about the exact year under the old system.\n",
      "-0.9325 After the widespread destruction, death and disruption of the War of the Hundred Years, a fourth calendar was devised by Uren din Jubai Soaring Gull, a scholar of the Sea Folk, and promulgated by the Panarch Farede of Tarabon.\n",
      "-0.9313 Widely distrusted and feared, even hated, they are blamed by many for the Breaking of the World, and are generally thought to meddle in the affairs of nations.\n",
      "-0.9398 He even sent armies across the Aryth Ocean, but all contact with these was lost at his death, which set off the War of the Hundred Years.\n",
      "-0.9632 Since the time of Madness, no man has been able to channel the Power without eventually going completely, horribly mad; and then, even if he has learned some control, dying from a wasting sickness which causes the sufferer to rot alive—a sickness caused, as is the madness, by the Dark One's taint on saidin.\n",
      "-0.9287 War of the Hundred Years: A series of overlapping wars among constantly shifting alliances, precipitated by the death of Artur Hawkwing and the resulting struggle for his empire.\n",
      "-0.9001 Slowly, painfully, he forced the panic to the back of his mind, confined it and held it tight though it screamed to get out.\n",
      "-0.9001 He noticed the Myrddraal looking at the figures, trembling; and unless he misjudged entirely, its trembling was no longer fear, but hatred.\n"
     ]
    }
   ],
   "source": [
    "for i in range(len(sent)):\n",
    "    if float(sent[i]) < -0.9:\n",
    "        print(sent[i], lines_list[i])"
   ]
  },
  {
   "cell_type": "code",
   "execution_count": 22,
   "metadata": {},
   "outputs": [
    {
     "data": {
      "text/plain": [
       "[<matplotlib.lines.Line2D at 0x1a21c16650>]"
      ]
     },
     "execution_count": 22,
     "metadata": {},
     "output_type": "execute_result"
    },
    {
     "data": {
      "image/png": "[encoded data removed]",
      "text/plain": [
       "<Figure size 432x288 with 1 Axes>"
      ]
     },
     "metadata": {
      "needs_background": "light"
     },
     "output_type": "display_data"
    }
   ],
   "source": [
    "n = moving_average(sent_afinn, 2**10)\n",
    "plt.plot(range(len(n)), n)\n",
    "n = moving_average(sent, 2**10)\n",
    "plt.plot(range(len(n)), n)"
   ]
  },
  {
   "cell_type": "code",
   "execution_count": null,
   "metadata": {},
   "outputs": [],
   "source": []
  }
 ],
 "metadata": {
  "kernelspec": {
   "display_name": "Python 3",
   "language": "python",
   "name": "python3"
  },
  "language_info": {
   "codemirror_mode": {
    "name": "ipython",
    "version": 3
   },
   "file_extension": ".py",
   "mimetype": "text/x-python",
   "name": "python",
   "nbconvert_exporter": "python",
   "pygments_lexer": "ipython3",
   "version": "3.7.4"
  }
 },
 "nbformat": 4,
 "nbformat_minor": 2
}
