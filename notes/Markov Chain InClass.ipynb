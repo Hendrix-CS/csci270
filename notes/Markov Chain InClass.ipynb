{
 "cells": [
  {
   "cell_type": "code",
   "execution_count": 1,
   "metadata": {},
   "outputs": [],
   "source": [
    "%matplotlib inline\n",
    "import nltk\n",
    "import os\n",
    "import re\n",
    "import random"
   ]
  },
  {
   "cell_type": "code",
   "execution_count": 7,
   "metadata": {},
   "outputs": [],
   "source": [
    "words = {\"cat\":0.5, \"dog\":0.2, \"lemur\":0.3}"
   ]
  },
  {
   "cell_type": "code",
   "execution_count": 27,
   "metadata": {},
   "outputs": [],
   "source": [
    "def discrete_prob(d):\n",
    "    r = random.random()\n",
    "    sum = 0\n",
    "    for k in d:\n",
    "        sum += d[k]\n",
    "        if r < sum:\n",
    "            return k\n"
   ]
  },
  {
   "cell_type": "code",
   "execution_count": 26,
   "metadata": {},
   "outputs": [
    {
     "name": "stdout",
     "output_type": "stream",
     "text": [
      "0.9341057473498428\n",
      "cat\n",
      "0.5\n",
      "dog\n",
      "0.7\n",
      "lemur\n",
      "1.0\n",
      "lemur\n"
     ]
    }
   ],
   "source": [
    "for i in range(1):\n",
    "    print(discrete_prob(words))"
   ]
  },
  {
   "cell_type": "code",
   "execution_count": 35,
   "metadata": {},
   "outputs": [],
   "source": [
    "mc = {\"cat\":{\"cat\":0.9, \"dog\":0.1}, \"dog\":{\"cat\":0.1, \"dog\":0.9}}"
   ]
  },
  {
   "cell_type": "markdown",
   "metadata": {},
   "source": [
    "## Generating text from a Markov chain"
   ]
  },
  {
   "cell_type": "code",
   "execution_count": 97,
   "metadata": {},
   "outputs": [],
   "source": [
    "def generate(mc, sep):\n",
    "    current = list(random.choice(list(mc.keys())))\n",
    "    seq = []\n",
    "    for i in range(500):\n",
    "        seq.append(discrete_prob(mc[tuple(current)]))\n",
    "        current = current[1:] + [seq[-1]]\n",
    "    return sep.join(seq)"
   ]
  },
  {
   "cell_type": "code",
   "execution_count": 103,
   "metadata": {},
   "outputs": [],
   "source": [
    "seq = generate(mc2, \" \")"
   ]
  },
  {
   "cell_type": "code",
   "execution_count": 104,
   "metadata": {},
   "outputs": [
    {
     "data": {
      "text/plain": [
       "'cat cat cat cat cat dog dog dog dog dog dog dog dog dog dog dog dog cat cat cat cat cat cat cat cat cat cat cat cat cat cat cat cat cat cat cat cat cat cat cat cat dog dog dog dog dog dog dog dog dog dog dog dog dog dog dog dog dog dog cat cat cat dog dog dog dog dog dog dog dog dog dog dog dog dog dog dog dog dog dog cat cat cat cat cat cat cat cat cat cat cat cat cat cat cat dog dog dog dog dog dog cat cat cat cat cat cat cat cat cat cat cat dog dog dog dog dog dog dog dog cat cat cat cat cat dog dog dog dog dog dog dog dog cat cat cat dog dog dog dog dog dog dog dog dog dog dog dog cat cat cat cat cat cat cat cat cat cat cat cat cat cat cat cat cat cat cat cat dog dog dog dog dog dog dog dog dog dog dog dog dog dog cat cat cat cat cat cat cat cat cat cat dog dog dog dog cat cat cat cat cat cat cat cat cat cat cat cat cat cat cat cat cat cat cat dog dog dog dog dog dog dog dog dog dog dog dog dog dog cat cat cat cat cat cat cat cat cat cat cat cat cat cat cat cat cat cat cat cat cat cat cat cat cat cat cat dog cat cat cat cat cat cat cat cat cat cat cat cat cat cat dog dog dog dog dog dog dog dog dog dog dog dog dog dog dog dog dog dog dog cat cat cat cat cat cat cat cat cat cat cat cat cat cat cat cat cat cat cat cat cat cat dog dog dog cat dog dog dog dog dog dog dog dog cat dog dog dog dog dog dog dog dog cat cat cat cat cat cat cat cat cat cat cat cat cat cat cat cat cat dog dog dog dog dog dog dog dog dog dog dog dog dog cat cat cat cat cat cat cat cat cat cat cat cat cat cat cat cat cat cat cat cat cat cat cat cat cat cat cat cat cat cat cat cat cat cat cat dog dog dog cat cat cat cat cat cat cat cat cat cat cat cat cat dog cat cat cat cat cat cat cat cat cat cat cat cat cat cat cat cat cat cat cat cat cat cat cat cat cat dog dog dog dog dog dog dog dog dog dog dog dog cat cat cat cat cat dog dog dog dog dog dog dog dog dog dog dog dog dog dog dog dog dog dog dog dog dog dog dog dog dog dog cat cat cat cat cat cat cat cat cat cat cat cat cat cat cat cat dog'"
      ]
     },
     "execution_count": 104,
     "metadata": {},
     "output_type": "execute_result"
    }
   ],
   "source": [
    "seq"
   ]
  },
  {
   "cell_type": "code",
   "execution_count": 62,
   "metadata": {},
   "outputs": [],
   "source": [
    "seq_list = seq.split()\n"
   ]
  },
  {
   "cell_type": "markdown",
   "metadata": {},
   "source": [
    "## Learning the probabilities for a Markov Chain"
   ]
  },
  {
   "cell_type": "code",
   "execution_count": 88,
   "metadata": {},
   "outputs": [],
   "source": [
    "def learn_markov(seq_list, order):\n",
    "    mc2 = {}\n",
    "    prev = [\"_\"] * order\n",
    "    for i in range(0, len(seq_list)):\n",
    "        prev_t = tuple(prev)\n",
    "        if prev_t not in mc2:\n",
    "            mc2[prev_t] = {}\n",
    "        mc2[prev_t][seq_list[i]] = mc2[prev_t].get(seq_list[i], 0) + 1\n",
    "        prev = prev[1:]\n",
    "        prev.append(seq_list[i])\n",
    "\n",
    "    for k in mc2:\n",
    "        sum1 = 0\n",
    "        for k2 in mc2[k]:\n",
    "            sum1 += mc2[k][k2]\n",
    "        for k2 in mc2[k]:\n",
    "            mc2[k][k2] /= sum1\n",
    "    return mc2"
   ]
  },
  {
   "cell_type": "code",
   "execution_count": 109,
   "metadata": {},
   "outputs": [],
   "source": [
    "mc2 = learn_markov(seq_list, 4)"
   ]
  },
  {
   "cell_type": "code",
   "execution_count": 110,
   "metadata": {},
   "outputs": [
    {
     "data": {
      "text/plain": [
       "{('_', '_', '_', '_'): {'cat': 1.0},\n",
       " ('_', '_', '_', 'cat'): {'cat': 1.0},\n",
       " ('_', '_', 'cat', 'cat'): {'cat': 1.0},\n",
       " ('_', 'cat', 'cat', 'cat'): {'cat': 1.0},\n",
       " ('cat', 'cat', 'cat', 'cat'): {'cat': 0.8809523809523809,\n",
       "  'dog': 0.11904761904761904},\n",
       " ('cat', 'cat', 'cat', 'dog'): {'dog': 1.0},\n",
       " ('cat', 'cat', 'dog', 'dog'): {'dog': 0.8571428571428571,\n",
       "  'cat': 0.14285714285714285},\n",
       " ('cat', 'dog', 'dog', 'dog'): {'dog': 0.95, 'cat': 0.05},\n",
       " ('dog', 'dog', 'dog', 'dog'): {'dog': 0.9104477611940298,\n",
       "  'cat': 0.08955223880597014},\n",
       " ('dog', 'dog', 'dog', 'cat'): {'cat': 0.9473684210526315,\n",
       "  'dog': 0.05263157894736842},\n",
       " ('dog', 'dog', 'cat', 'cat'): {'cat': 1.0},\n",
       " ('dog', 'cat', 'cat', 'cat'): {'cat': 0.95, 'dog': 0.05},\n",
       " ('cat', 'dog', 'dog', 'cat'): {'cat': 0.6666666666666666,\n",
       "  'dog': 0.3333333333333333},\n",
       " ('dog', 'dog', 'cat', 'dog'): {'dog': 1.0},\n",
       " ('dog', 'cat', 'dog', 'dog'): {'dog': 1.0}}"
      ]
     },
     "execution_count": 110,
     "metadata": {},
     "output_type": "execute_result"
    }
   ],
   "source": [
    "mc2"
   ]
  },
  {
   "cell_type": "code",
   "execution_count": 111,
   "metadata": {},
   "outputs": [
    {
     "data": {
      "text/plain": [
       "'cat cat cat cat cat cat cat cat cat cat cat cat dog dog dog dog dog dog dog dog dog dog dog dog dog cat cat cat cat cat cat cat dog dog cat cat cat cat cat cat dog dog cat cat cat cat cat cat dog dog dog dog dog dog dog dog dog cat cat cat cat cat cat cat cat cat dog dog cat cat cat cat cat dog dog cat cat cat cat cat cat cat cat cat cat cat cat dog dog dog dog dog dog dog dog cat cat cat cat cat cat cat cat cat cat dog dog cat cat cat cat cat dog dog dog dog dog dog dog dog dog dog dog dog dog dog dog dog dog cat cat cat cat cat cat dog dog dog dog dog dog dog dog dog dog dog dog dog dog dog dog dog dog dog dog dog dog dog dog dog dog dog dog dog dog dog dog dog dog dog dog dog cat cat cat cat cat cat cat cat cat cat cat cat cat cat cat dog dog dog dog dog cat cat cat cat cat cat cat cat dog dog dog dog dog dog dog dog dog dog dog dog dog dog dog dog dog dog dog dog dog cat cat cat cat cat cat dog dog dog cat cat cat cat dog dog dog dog dog dog dog dog dog dog dog dog dog dog dog dog dog dog dog dog dog dog dog dog dog dog dog dog dog dog dog dog dog dog dog dog dog dog dog dog dog dog dog dog dog dog dog dog dog dog dog dog dog dog dog dog dog dog dog dog dog dog dog dog dog dog dog dog dog dog dog dog dog dog dog dog dog dog dog dog dog dog dog dog dog cat cat cat cat cat cat cat cat cat cat cat cat cat cat cat cat dog dog dog dog dog dog dog dog dog dog dog cat cat cat cat cat cat dog dog dog dog dog dog dog dog dog dog dog dog dog dog dog dog cat cat cat cat cat cat cat cat cat dog dog dog dog dog dog dog dog dog dog dog dog cat cat cat cat cat cat cat cat cat cat cat cat cat cat cat cat cat dog dog dog dog dog dog dog dog dog cat cat cat cat cat cat cat cat cat cat cat cat cat cat cat dog dog dog dog dog dog dog dog dog dog dog dog dog dog dog dog dog dog dog dog dog dog dog cat cat cat cat cat cat cat cat cat cat cat cat cat cat cat dog dog cat cat cat cat cat dog dog cat cat cat cat cat dog dog cat dog dog dog dog dog dog dog dog dog dog dog dog dog dog dog'"
      ]
     },
     "execution_count": 111,
     "metadata": {},
     "output_type": "execute_result"
    }
   ],
   "source": [
    "seq = generate(mc2, \" \")\n",
    "seq"
   ]
  },
  {
   "cell_type": "markdown",
   "metadata": {},
   "source": [
    "## Loading up the sequence data"
   ]
  },
  {
   "cell_type": "code",
   "execution_count": 116,
   "metadata": {},
   "outputs": [],
   "source": [
    "documents = []\n",
    "for f in os.listdir(\"WheelOfTime\"):\n",
    "    if f.endswith(\".txt\"):\n",
    "        fopen = open(\"WheelOfTime/\" + f, encoding=\"utf-8\")\n",
    "        #documents += nltk.word_tokenize(fopen.read().lower().replace(\"\\n\", \" \"))\n",
    "        documents += fopen.read().lower().replace(\"\\n\", \" \")"
   ]
  },
  {
   "cell_type": "code",
   "execution_count": 117,
   "metadata": {},
   "outputs": [
    {
     "data": {
      "text/plain": [
       "24060959"
      ]
     },
     "execution_count": 117,
     "metadata": {},
     "output_type": "execute_result"
    }
   ],
   "source": [
    "len(documents)"
   ]
  },
  {
   "cell_type": "code",
   "execution_count": 135,
   "metadata": {},
   "outputs": [
    {
     "data": {
      "text/plain": [
       "['.',\n",
       " ' ',\n",
       " ' ',\n",
       " 't',\n",
       " 'h',\n",
       " 'i',\n",
       " 's',\n",
       " ' ',\n",
       " 'h',\n",
       " 'i',\n",
       " 'g',\n",
       " 'h',\n",
       " ',',\n",
       " ' ',\n",
       " 'a',\n",
       " 'n',\n",
       " ' ',\n",
       " 'a',\n",
       " 'l',\n",
       " 'm']"
      ]
     },
     "execution_count": 135,
     "metadata": {},
     "output_type": "execute_result"
    }
   ],
   "source": [
    "documents[5000:5020]"
   ]
  },
  {
   "cell_type": "code",
   "execution_count": 132,
   "metadata": {},
   "outputs": [],
   "source": [
    "mc_wot = learn_markov(documents, 5)"
   ]
  },
  {
   "cell_type": "code",
   "execution_count": 127,
   "metadata": {},
   "outputs": [
    {
     "data": {
      "text/plain": [
       "{'l': 0.1999074502545118,\n",
       " 'r': 0.5404905136510875,\n",
       " 't': 0.08468301712170291,\n",
       " 's': 0.012031466913465988,\n",
       " 'w': 0.007866728366496992,\n",
       " 'i': 0.03701989819527996,\n",
       " 'b': 0.029153169828782972,\n",
       " 'v': 0.005552984729291994,\n",
       " 'y': 0.00971772327626099,\n",
       " 'n': 0.014807959278111986,\n",
       " 'k': 0.016658954187875982,\n",
       " 'd': 0.04118463674224896,\n",
       " 'g': 0.0009254974548819991}"
      ]
     },
     "execution_count": 127,
     "metadata": {},
     "output_type": "execute_result"
    }
   ],
   "source": [
    "mc_wot[(\"q\",\"u\",\"a\")]"
   ]
  },
  {
   "cell_type": "code",
   "execution_count": 133,
   "metadata": {},
   "outputs": [
    {
     "data": {
      "text/plain": [
       "' hardens, can’t  ceranding. it would have the two river replacid agree. “be welcomed reluctantly, “yes, spine on it,\" egwene blight, where than and resister heat of thing. after taim had re-released secret had told to reaching. it was force that did not reminded like an eyes had been now. darkfriends. “i’m going to  damodred passage of swagger, quickly. but not expected; the seen master head, looked suddenly before seen, but they join me friends were before supported. the other with a winespring'"
      ]
     },
     "execution_count": 133,
     "metadata": {},
     "output_type": "execute_result"
    }
   ],
   "source": [
    "seq = generate(mc_wot, \"\")\n",
    "seq"
   ]
  },
  {
   "cell_type": "markdown",
   "metadata": {},
   "source": [
    "## What is a tuple?"
   ]
  },
  {
   "cell_type": "code",
   "execution_count": 80,
   "metadata": {},
   "outputs": [],
   "source": [
    "t = [1, 2, 3]"
   ]
  },
  {
   "cell_type": "code",
   "execution_count": 81,
   "metadata": {},
   "outputs": [],
   "source": [
    "t2 = (1, 2, 3)"
   ]
  },
  {
   "cell_type": "code",
   "execution_count": 82,
   "metadata": {},
   "outputs": [
    {
     "data": {
      "text/plain": [
       "2"
      ]
     },
     "execution_count": 82,
     "metadata": {},
     "output_type": "execute_result"
    }
   ],
   "source": [
    "t[1]"
   ]
  },
  {
   "cell_type": "code",
   "execution_count": 83,
   "metadata": {},
   "outputs": [
    {
     "data": {
      "text/plain": [
       "2"
      ]
     },
     "execution_count": 83,
     "metadata": {},
     "output_type": "execute_result"
    }
   ],
   "source": [
    "t2[1]"
   ]
  },
  {
   "cell_type": "code",
   "execution_count": 84,
   "metadata": {},
   "outputs": [],
   "source": [
    "t.append(4)"
   ]
  },
  {
   "cell_type": "code",
   "execution_count": 85,
   "metadata": {},
   "outputs": [
    {
     "ename": "AttributeError",
     "evalue": "'tuple' object has no attribute 'append'",
     "output_type": "error",
     "traceback": [
      "\u001b[0;31m---------------------------------------------------------------------------\u001b[0m",
      "\u001b[0;31mAttributeError\u001b[0m                            Traceback (most recent call last)",
      "\u001b[0;32m<ipython-input-85-7b82dd707b34>\u001b[0m in \u001b[0;36m<module>\u001b[0;34m\u001b[0m\n\u001b[0;32m----> 1\u001b[0;31m \u001b[0mt2\u001b[0m\u001b[0;34m.\u001b[0m\u001b[0mappend\u001b[0m\u001b[0;34m(\u001b[0m\u001b[0;36m4\u001b[0m\u001b[0;34m)\u001b[0m\u001b[0;34m\u001b[0m\u001b[0;34m\u001b[0m\u001b[0m\n\u001b[0m",
      "\u001b[0;31mAttributeError\u001b[0m: 'tuple' object has no attribute 'append'"
     ]
    }
   ],
   "source": [
    "t2.append(4)"
   ]
  },
  {
   "cell_type": "code",
   "execution_count": 86,
   "metadata": {},
   "outputs": [],
   "source": [
    "t[1] = 7"
   ]
  },
  {
   "cell_type": "code",
   "execution_count": 87,
   "metadata": {},
   "outputs": [
    {
     "ename": "TypeError",
     "evalue": "'tuple' object does not support item assignment",
     "output_type": "error",
     "traceback": [
      "\u001b[0;31m---------------------------------------------------------------------------\u001b[0m",
      "\u001b[0;31mTypeError\u001b[0m                                 Traceback (most recent call last)",
      "\u001b[0;32m<ipython-input-87-a1e5a2bb4f8c>\u001b[0m in \u001b[0;36m<module>\u001b[0;34m\u001b[0m\n\u001b[0;32m----> 1\u001b[0;31m \u001b[0mt2\u001b[0m\u001b[0;34m[\u001b[0m\u001b[0;36m1\u001b[0m\u001b[0;34m]\u001b[0m \u001b[0;34m=\u001b[0m \u001b[0;36m7\u001b[0m\u001b[0;34m\u001b[0m\u001b[0;34m\u001b[0m\u001b[0m\n\u001b[0m",
      "\u001b[0;31mTypeError\u001b[0m: 'tuple' object does not support item assignment"
     ]
    }
   ],
   "source": [
    "t2[1] = 7"
   ]
  },
  {
   "cell_type": "code",
   "execution_count": null,
   "metadata": {},
   "outputs": [],
   "source": [
    "a"
   ]
  }
 ],
 "metadata": {
  "kernelspec": {
   "display_name": "Python 3",
   "language": "python",
   "name": "python3"
  },
  "language_info": {
   "codemirror_mode": {
    "name": "ipython",
    "version": 3
   },
   "file_extension": ".py",
   "mimetype": "text/x-python",
   "name": "python",
   "nbconvert_exporter": "python",
   "pygments_lexer": "ipython3",
   "version": "3.7.4"
  }
 },
 "nbformat": 4,
 "nbformat_minor": 2
}
