{
 "cells": [
  {
   "cell_type": "markdown",
   "metadata": {},
   "source": [
    "# Word Similarity Notebook"
   ]
  },
  {
   "cell_type": "markdown",
   "metadata": {},
   "source": [
    "## Word Vectors with Gensim and Word2Vec"
   ]
  },
  {
   "cell_type": "code",
   "execution_count": 2,
   "metadata": {},
   "outputs": [
    {
     "name": "stdout",
     "output_type": "stream",
     "text": [
      "Requirement already satisfied: gensim in /Users/goadrich/anaconda/envs/py37/lib/python3.7/site-packages (3.8.1)\n",
      "Requirement already satisfied: numpy>=1.11.3 in /Users/goadrich/anaconda/envs/py37/lib/python3.7/site-packages (from gensim) (1.17.2)\n",
      "Requirement already satisfied: smart-open>=1.8.1 in /Users/goadrich/anaconda/envs/py37/lib/python3.7/site-packages (from gensim) (1.9.0)\n",
      "Requirement already satisfied: six>=1.5.0 in /Users/goadrich/anaconda/envs/py37/lib/python3.7/site-packages (from gensim) (1.12.0)\n",
      "Requirement already satisfied: scipy>=0.18.1 in /Users/goadrich/anaconda/envs/py37/lib/python3.7/site-packages (from gensim) (1.3.1)\n",
      "Requirement already satisfied: boto>=2.32 in /Users/goadrich/anaconda/envs/py37/lib/python3.7/site-packages (from smart-open>=1.8.1->gensim) (2.49.0)\n",
      "Requirement already satisfied: boto3 in /Users/goadrich/anaconda/envs/py37/lib/python3.7/site-packages (from smart-open>=1.8.1->gensim) (1.12.3)\n",
      "Requirement already satisfied: requests in /Users/goadrich/anaconda/envs/py37/lib/python3.7/site-packages (from smart-open>=1.8.1->gensim) (2.22.0)\n",
      "Requirement already satisfied: jmespath<1.0.0,>=0.7.1 in /Users/goadrich/anaconda/envs/py37/lib/python3.7/site-packages (from boto3->smart-open>=1.8.1->gensim) (0.9.4)\n",
      "Requirement already satisfied: s3transfer<0.4.0,>=0.3.0 in /Users/goadrich/anaconda/envs/py37/lib/python3.7/site-packages (from boto3->smart-open>=1.8.1->gensim) (0.3.3)\n",
      "Requirement already satisfied: botocore<1.16.0,>=1.15.3 in /Users/goadrich/anaconda/envs/py37/lib/python3.7/site-packages (from boto3->smart-open>=1.8.1->gensim) (1.15.3)\n",
      "Requirement already satisfied: chardet<3.1.0,>=3.0.2 in /Users/goadrich/anaconda/envs/py37/lib/python3.7/site-packages (from requests->smart-open>=1.8.1->gensim) (3.0.4)\n",
      "Requirement already satisfied: certifi>=2017.4.17 in /Users/goadrich/anaconda/envs/py37/lib/python3.7/site-packages (from requests->smart-open>=1.8.1->gensim) (2019.9.11)\n",
      "Requirement already satisfied: idna<2.9,>=2.5 in /Users/goadrich/anaconda/envs/py37/lib/python3.7/site-packages (from requests->smart-open>=1.8.1->gensim) (2.8)\n",
      "Requirement already satisfied: urllib3!=1.25.0,!=1.25.1,<1.26,>=1.21.1 in /Users/goadrich/anaconda/envs/py37/lib/python3.7/site-packages (from requests->smart-open>=1.8.1->gensim) (1.24.2)\n",
      "Requirement already satisfied: python-dateutil<3.0.0,>=2.1 in /Users/goadrich/anaconda/envs/py37/lib/python3.7/site-packages (from botocore<1.16.0,>=1.15.3->boto3->smart-open>=1.8.1->gensim) (2.8.0)\n",
      "Requirement already satisfied: docutils<0.16,>=0.10 in /Users/goadrich/anaconda/envs/py37/lib/python3.7/site-packages (from botocore<1.16.0,>=1.15.3->boto3->smart-open>=1.8.1->gensim) (0.15.2)\n"
     ]
    }
   ],
   "source": [
    "!pip install gensim\n",
    "import gensim\n",
    "import logging\n",
    "logging.basicConfig(format=\"%(asctime)s: %(levelname)s : %(message)s\", level=logging.INFO)\n",
    "from gensim.models import word2vec"
   ]
  },
  {
   "cell_type": "code",
   "execution_count": 3,
   "metadata": {},
   "outputs": [
    {
     "name": "stderr",
     "output_type": "stream",
     "text": [
      "2020-02-25 00:12:16,672: INFO : reading directory WOTclean/\n",
      "2020-02-25 00:12:16,674: INFO : files read into PathLineSentences:WOTclean/CrossroadsOfTwilight.txt\n",
      "WOTclean/CrownOfSwords.txt\n",
      "WOTclean/DragonReborn.txt\n",
      "WOTclean/EyeOfTheWorld.txt\n",
      "WOTclean/FiresOfHeaven.txt\n",
      "WOTclean/GatheringStorm.txt\n",
      "WOTclean/GreatHunt.txt\n",
      "WOTclean/KnifeOfDreams.txt\n",
      "WOTclean/LordOfChaos.txt\n",
      "WOTclean/MemoryOfLight.txt\n",
      "WOTclean/PathOfDaggers.txt\n",
      "WOTclean/ShadowRising.txt\n",
      "WOTclean/TowersOfMidnight.txt\n",
      "WOTclean/WintersHeart.txt\n"
     ]
    }
   ],
   "source": [
    "# NEED TO CLEAN THE DATA FIRST!!!!\n",
    "sentences = word2vec.PathLineSentences(\"WOTclean\", max_sentence_length=5000)"
   ]
  },
  {
   "cell_type": "code",
   "execution_count": 3,
   "metadata": {},
   "outputs": [
    {
     "name": "stderr",
     "output_type": "stream",
     "text": [
      "2020-02-20 10:57:57,825: INFO : collecting all words and their counts\n",
      "2020-02-20 10:57:57,826: INFO : reading file WOTclean/CrossroadsOfTwilight.txt\n",
      "2020-02-20 10:57:57,866: INFO : PROGRESS: at sentence #0, processed 0 words, keeping 0 word types\n",
      "2020-02-20 10:57:57,918: INFO : reading file WOTclean/CrownOfSwords.txt\n",
      "2020-02-20 10:57:58,010: INFO : reading file WOTclean/DragonReborn.txt\n",
      "2020-02-20 10:57:58,086: INFO : reading file WOTclean/EyeOfTheWorld.txt\n",
      "2020-02-20 10:57:58,177: INFO : reading file WOTclean/FiresOfHeaven.txt\n",
      "2020-02-20 10:57:58,286: INFO : reading file WOTclean/GatheringStorm.txt\n",
      "2020-02-20 10:57:58,383: INFO : reading file WOTclean/GreatHunt.txt\n",
      "2020-02-20 10:57:58,462: INFO : reading file WOTclean/KnifeOfDreams.txt\n",
      "2020-02-20 10:57:58,564: INFO : reading file WOTclean/LordOfChaos.txt\n",
      "2020-02-20 10:57:58,695: INFO : reading file WOTclean/MemoryOfLight.txt\n",
      "2020-02-20 10:57:58,802: INFO : reading file WOTclean/PathOfDaggers.txt\n",
      "2020-02-20 10:57:58,880: INFO : reading file WOTclean/ShadowRising.txt\n",
      "2020-02-20 10:57:59,004: INFO : reading file WOTclean/TowersOfMidnight.txt\n",
      "2020-02-20 10:57:59,111: INFO : reading file WOTclean/WintersHeart.txt\n",
      "2020-02-20 10:57:59,195: INFO : collected 49549 word types from a corpus of 4333369 raw words and 873 sentences\n",
      "2020-02-20 10:57:59,195: INFO : Loading a fresh vocabulary\n",
      "2020-02-20 10:57:59,243: INFO : effective_min_count=5 retains 17928 unique words (36% of original 49549, drops 31621)\n",
      "2020-02-20 10:57:59,243: INFO : effective_min_count=5 leaves 4284902 word corpus (98% of original 4333369, drops 48467)\n",
      "2020-02-20 10:57:59,309: INFO : deleting the raw counts dictionary of 49549 items\n",
      "2020-02-20 10:57:59,313: INFO : sample=0.001 downsamples 50 most-common words\n",
      "2020-02-20 10:57:59,314: INFO : downsampling leaves estimated 3218001 word corpus (75.1% of prior 4284902)\n",
      "2020-02-20 10:57:59,359: INFO : estimated required memory for 17928 words and 200 dimensions: 37648800 bytes\n",
      "2020-02-20 10:57:59,360: INFO : resetting layer weights\n",
      "2020-02-20 10:58:03,680: INFO : training model with 3 workers on 17928 vocabulary and 200 features, using sg=0 hs=0 sample=0.001 negative=5 window=5\n",
      "2020-02-20 10:58:03,683: INFO : reading file WOTclean/CrossroadsOfTwilight.txt\n",
      "2020-02-20 10:58:03,858: INFO : reading file WOTclean/CrownOfSwords.txt\n",
      "2020-02-20 10:58:04,078: INFO : reading file WOTclean/DragonReborn.txt\n",
      "2020-02-20 10:58:04,256: INFO : reading file WOTclean/EyeOfTheWorld.txt\n",
      "2020-02-20 10:58:04,486: INFO : reading file WOTclean/FiresOfHeaven.txt\n",
      "2020-02-20 10:58:04,688: INFO : EPOCH 1 - PROGRESS: at 30.01% examples, 955149 words/s, in_qsize 5, out_qsize 0\n",
      "2020-02-20 10:58:04,747: INFO : reading file WOTclean/GatheringStorm.txt\n",
      "2020-02-20 10:58:04,977: INFO : reading file WOTclean/GreatHunt.txt\n",
      "2020-02-20 10:58:05,171: INFO : reading file WOTclean/KnifeOfDreams.txt\n",
      "2020-02-20 10:58:05,406: INFO : reading file WOTclean/LordOfChaos.txt\n",
      "2020-02-20 10:58:05,692: INFO : EPOCH 1 - PROGRESS: at 61.63% examples, 985238 words/s, in_qsize 5, out_qsize 0\n",
      "2020-02-20 10:58:05,708: INFO : reading file WOTclean/MemoryOfLight.txt\n",
      "2020-02-20 10:58:05,966: INFO : reading file WOTclean/PathOfDaggers.txt\n",
      "2020-02-20 10:58:06,141: INFO : reading file WOTclean/ShadowRising.txt\n",
      "2020-02-20 10:58:06,427: INFO : reading file WOTclean/TowersOfMidnight.txt\n",
      "2020-02-20 10:58:06,673: INFO : reading file WOTclean/WintersHeart.txt\n",
      "2020-02-20 10:58:06,712: INFO : EPOCH 1 - PROGRESS: at 92.78% examples, 986179 words/s, in_qsize 6, out_qsize 2\n",
      "2020-02-20 10:58:06,904: INFO : worker thread finished; awaiting finish of 2 more threads\n",
      "2020-02-20 10:58:06,906: INFO : worker thread finished; awaiting finish of 1 more threads\n",
      "2020-02-20 10:58:06,911: INFO : worker thread finished; awaiting finish of 0 more threads\n",
      "2020-02-20 10:58:06,912: INFO : EPOCH - 1 : training on 4333369 raw words (3218392 effective words) took 3.2s, 996805 effective words/s\n",
      "2020-02-20 10:58:06,913: INFO : reading file WOTclean/CrossroadsOfTwilight.txt\n",
      "2020-02-20 10:58:07,063: INFO : reading file WOTclean/CrownOfSwords.txt\n",
      "2020-02-20 10:58:07,282: INFO : reading file WOTclean/DragonReborn.txt\n",
      "2020-02-20 10:58:07,464: INFO : reading file WOTclean/EyeOfTheWorld.txt\n",
      "2020-02-20 10:58:07,695: INFO : reading file WOTclean/FiresOfHeaven.txt\n",
      "2020-02-20 10:58:07,913: INFO : EPOCH 2 - PROGRESS: at 30.70% examples, 981629 words/s, in_qsize 5, out_qsize 0\n",
      "2020-02-20 10:58:07,955: INFO : reading file WOTclean/GatheringStorm.txt\n",
      "2020-02-20 10:58:08,181: INFO : reading file WOTclean/GreatHunt.txt\n",
      "2020-02-20 10:58:08,377: INFO : reading file WOTclean/KnifeOfDreams.txt\n",
      "2020-02-20 10:58:08,608: INFO : reading file WOTclean/LordOfChaos.txt\n",
      "2020-02-20 10:58:08,917: INFO : EPOCH 2 - PROGRESS: at 62.08% examples, 994965 words/s, in_qsize 5, out_qsize 0\n",
      "2020-02-20 10:58:08,918: INFO : reading file WOTclean/MemoryOfLight.txt\n",
      "2020-02-20 10:58:09,177: INFO : reading file WOTclean/PathOfDaggers.txt\n",
      "2020-02-20 10:58:09,357: INFO : reading file WOTclean/ShadowRising.txt\n",
      "2020-02-20 10:58:09,642: INFO : reading file WOTclean/TowersOfMidnight.txt\n",
      "2020-02-20 10:58:09,882: INFO : reading file WOTclean/WintersHeart.txt\n",
      "2020-02-20 10:58:09,921: INFO : EPOCH 2 - PROGRESS: at 92.55% examples, 990921 words/s, in_qsize 6, out_qsize 1\n",
      "2020-02-20 10:58:10,118: INFO : worker thread finished; awaiting finish of 2 more threads\n",
      "2020-02-20 10:58:10,119: INFO : worker thread finished; awaiting finish of 1 more threads\n",
      "2020-02-20 10:58:10,124: INFO : worker thread finished; awaiting finish of 0 more threads\n",
      "2020-02-20 10:58:10,125: INFO : EPOCH - 2 : training on 4333369 raw words (3218253 effective words) took 3.2s, 1001965 effective words/s\n",
      "2020-02-20 10:58:10,127: INFO : reading file WOTclean/CrossroadsOfTwilight.txt\n",
      "2020-02-20 10:58:10,281: INFO : reading file WOTclean/CrownOfSwords.txt\n",
      "2020-02-20 10:58:10,506: INFO : reading file WOTclean/DragonReborn.txt\n",
      "2020-02-20 10:58:10,680: INFO : reading file WOTclean/EyeOfTheWorld.txt\n",
      "2020-02-20 10:58:10,910: INFO : reading file WOTclean/FiresOfHeaven.txt\n",
      "2020-02-20 10:58:11,131: INFO : EPOCH 3 - PROGRESS: at 30.93% examples, 985693 words/s, in_qsize 5, out_qsize 0\n",
      "2020-02-20 10:58:11,164: INFO : reading file WOTclean/GatheringStorm.txt\n",
      "2020-02-20 10:58:11,396: INFO : reading file WOTclean/GreatHunt.txt\n",
      "2020-02-20 10:58:11,591: INFO : reading file WOTclean/KnifeOfDreams.txt\n",
      "2020-02-20 10:58:11,832: INFO : reading file WOTclean/LordOfChaos.txt\n",
      "2020-02-20 10:58:12,130: INFO : reading file WOTclean/MemoryOfLight.txt\n",
      "2020-02-20 10:58:12,172: INFO : EPOCH 3 - PROGRESS: at 62.31% examples, 978244 words/s, in_qsize 6, out_qsize 1\n",
      "2020-02-20 10:58:12,392: INFO : reading file WOTclean/PathOfDaggers.txt\n",
      "2020-02-20 10:58:12,569: INFO : reading file WOTclean/ShadowRising.txt\n",
      "2020-02-20 10:58:12,857: INFO : reading file WOTclean/TowersOfMidnight.txt\n",
      "2020-02-20 10:58:13,100: INFO : reading file WOTclean/WintersHeart.txt\n",
      "2020-02-20 10:58:13,175: INFO : EPOCH 3 - PROGRESS: at 93.93% examples, 992369 words/s, in_qsize 5, out_qsize 0\n",
      "2020-02-20 10:58:13,336: INFO : worker thread finished; awaiting finish of 2 more threads\n",
      "2020-02-20 10:58:13,337: INFO : worker thread finished; awaiting finish of 1 more threads\n",
      "2020-02-20 10:58:13,343: INFO : worker thread finished; awaiting finish of 0 more threads\n",
      "2020-02-20 10:58:13,343: INFO : EPOCH - 3 : training on 4333369 raw words (3217743 effective words) took 3.2s, 1000458 effective words/s\n",
      "2020-02-20 10:58:13,345: INFO : reading file WOTclean/CrossroadsOfTwilight.txt\n",
      "2020-02-20 10:58:13,503: INFO : reading file WOTclean/CrownOfSwords.txt\n",
      "2020-02-20 10:58:13,723: INFO : reading file WOTclean/DragonReborn.txt\n",
      "2020-02-20 10:58:13,902: INFO : reading file WOTclean/EyeOfTheWorld.txt\n",
      "2020-02-20 10:58:14,131: INFO : reading file WOTclean/FiresOfHeaven.txt\n",
      "2020-02-20 10:58:14,350: INFO : EPOCH 4 - PROGRESS: at 30.70% examples, 977539 words/s, in_qsize 5, out_qsize 0\n",
      "2020-02-20 10:58:14,393: INFO : reading file WOTclean/GatheringStorm.txt\n",
      "2020-02-20 10:58:14,617: INFO : reading file WOTclean/GreatHunt.txt\n",
      "2020-02-20 10:58:14,812: INFO : reading file WOTclean/KnifeOfDreams.txt\n",
      "2020-02-20 10:58:15,051: INFO : reading file WOTclean/LordOfChaos.txt\n",
      "2020-02-20 10:58:15,352: INFO : EPOCH 4 - PROGRESS: at 61.86% examples, 989511 words/s, in_qsize 5, out_qsize 0\n"
     ]
    },
    {
     "name": "stderr",
     "output_type": "stream",
     "text": [
      "2020-02-20 10:58:15,368: INFO : reading file WOTclean/MemoryOfLight.txt\n",
      "2020-02-20 10:58:15,624: INFO : reading file WOTclean/PathOfDaggers.txt\n",
      "2020-02-20 10:58:15,796: INFO : reading file WOTclean/ShadowRising.txt\n",
      "2020-02-20 10:58:16,080: INFO : reading file WOTclean/TowersOfMidnight.txt\n",
      "2020-02-20 10:58:16,328: INFO : reading file WOTclean/WintersHeart.txt\n",
      "2020-02-20 10:58:16,366: INFO : EPOCH 4 - PROGRESS: at 92.55% examples, 986282 words/s, in_qsize 6, out_qsize 1\n",
      "2020-02-20 10:58:16,562: INFO : worker thread finished; awaiting finish of 2 more threads\n",
      "2020-02-20 10:58:16,563: INFO : worker thread finished; awaiting finish of 1 more threads\n",
      "2020-02-20 10:58:16,569: INFO : worker thread finished; awaiting finish of 0 more threads\n",
      "2020-02-20 10:58:16,569: INFO : EPOCH - 4 : training on 4333369 raw words (3217490 effective words) took 3.2s, 997925 effective words/s\n",
      "2020-02-20 10:58:16,572: INFO : reading file WOTclean/CrossroadsOfTwilight.txt\n",
      "2020-02-20 10:58:16,726: INFO : reading file WOTclean/CrownOfSwords.txt\n",
      "2020-02-20 10:58:16,946: INFO : reading file WOTclean/DragonReborn.txt\n",
      "2020-02-20 10:58:17,120: INFO : reading file WOTclean/EyeOfTheWorld.txt\n",
      "2020-02-20 10:58:17,363: INFO : reading file WOTclean/FiresOfHeaven.txt\n",
      "2020-02-20 10:58:17,578: INFO : EPOCH 5 - PROGRESS: at 30.24% examples, 961977 words/s, in_qsize 5, out_qsize 0\n",
      "2020-02-20 10:58:17,634: INFO : reading file WOTclean/GatheringStorm.txt\n",
      "2020-02-20 10:58:17,867: INFO : reading file WOTclean/GreatHunt.txt\n",
      "2020-02-20 10:58:18,073: INFO : reading file WOTclean/KnifeOfDreams.txt\n",
      "2020-02-20 10:58:18,333: INFO : reading file WOTclean/LordOfChaos.txt\n",
      "2020-02-20 10:58:18,581: INFO : EPOCH 5 - PROGRESS: at 59.79% examples, 956037 words/s, in_qsize 5, out_qsize 0\n",
      "2020-02-20 10:58:18,655: INFO : reading file WOTclean/MemoryOfLight.txt\n",
      "2020-02-20 10:58:18,919: INFO : reading file WOTclean/PathOfDaggers.txt\n",
      "2020-02-20 10:58:19,090: INFO : reading file WOTclean/ShadowRising.txt\n",
      "2020-02-20 10:58:19,392: INFO : reading file WOTclean/TowersOfMidnight.txt\n",
      "2020-02-20 10:58:19,587: INFO : EPOCH 5 - PROGRESS: at 90.03% examples, 961080 words/s, in_qsize 5, out_qsize 0\n",
      "2020-02-20 10:58:19,648: INFO : reading file WOTclean/WintersHeart.txt\n",
      "2020-02-20 10:58:19,883: INFO : worker thread finished; awaiting finish of 2 more threads\n",
      "2020-02-20 10:58:19,884: INFO : worker thread finished; awaiting finish of 1 more threads\n",
      "2020-02-20 10:58:19,889: INFO : worker thread finished; awaiting finish of 0 more threads\n",
      "2020-02-20 10:58:19,889: INFO : EPOCH - 5 : training on 4333369 raw words (3217767 effective words) took 3.3s, 970159 effective words/s\n",
      "2020-02-20 10:58:19,890: INFO : training on a 21666845 raw words (16089645 effective words) took 16.2s, 992598 effective words/s\n"
     ]
    }
   ],
   "source": [
    "model = word2vec.Word2Vec(sentences, size=200)"
   ]
  },
  {
   "cell_type": "code",
   "execution_count": 6,
   "metadata": {},
   "outputs": [
    {
     "data": {
      "text/plain": [
       "[('saidar', 0.8301193714141846),\n",
       " ('flow', 0.8096774816513062),\n",
       " ('spirit', 0.7800400853157043),\n",
       " ('weaving', 0.7598747611045837),\n",
       " ('source', 0.7429377436637878),\n",
       " ('flows', 0.7424753308296204),\n",
       " ('shield', 0.7337288856506348),\n",
       " ('weaves', 0.7194607853889465),\n",
       " ('ward', 0.7152315974235535),\n",
       " ('balefire', 0.6987577080726624)]"
      ]
     },
     "execution_count": 6,
     "metadata": {},
     "output_type": "execute_result"
    }
   ],
   "source": [
    "model.wv.most_similar(\"weave\")"
   ]
  },
  {
   "cell_type": "code",
   "execution_count": 7,
   "metadata": {},
   "outputs": [
    {
     "data": {
      "text/plain": [
       "[('daughter', 0.7620542049407959),\n",
       " ('queen', 0.7244284152984619),\n",
       " ('daughterheir', 0.6927045583724976),\n",
       " ('captaingeneral', 0.6824848651885986),\n",
       " ('eldest', 0.6670413017272949),\n",
       " ('empress', 0.6604320406913757),\n",
       " ('panarch', 0.6563238501548767),\n",
       " ('trakand', 0.6560022830963135),\n",
       " ('wavemistress', 0.6546295881271362),\n",
       " ('title', 0.6482746601104736)]"
      ]
     },
     "execution_count": 7,
     "metadata": {},
     "output_type": "execute_result"
    }
   ],
   "source": [
    "model.wv.most_similar(positive=[\"king\", \"woman\"], negative=[\"man\"])"
   ]
  }
 ],
 "metadata": {
  "kernelspec": {
   "display_name": "Python 3",
   "language": "python",
   "name": "python3"
  },
  "language_info": {
   "codemirror_mode": {
    "name": "ipython",
    "version": 3
   },
   "file_extension": ".py",
   "mimetype": "text/x-python",
   "name": "python",
   "nbconvert_exporter": "python",
   "pygments_lexer": "ipython3",
   "version": "3.7.4"
  }
 },
 "nbformat": 4,
 "nbformat_minor": 2
}
